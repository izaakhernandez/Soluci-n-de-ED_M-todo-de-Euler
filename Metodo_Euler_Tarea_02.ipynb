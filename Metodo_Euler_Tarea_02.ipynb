{
 "cells": [
  {
   "cell_type": "markdown",
   "id": "b8fd2ce2",
   "metadata": {},
   "source": [
    "Método de Euler para resolver ecuaciones diferenciales de primer orden"
   ]
  },
  {
   "cell_type": "code",
   "execution_count": 2,
   "id": "1aa8a95e",
   "metadata": {},
   "outputs": [],
   "source": [
    "import numpy as np\n",
    "import matplotlib.pyplot as plt"
   ]
  },
  {
   "cell_type": "code",
   "execution_count": null,
   "id": "c520bebd",
   "metadata": {},
   "outputs": [],
   "source": []
  }
 ],
 "metadata": {
  "kernelspec": {
   "display_name": "sci",
   "language": "python",
   "name": "python3"
  },
  "language_info": {
   "codemirror_mode": {
    "name": "ipython",
    "version": 3
   },
   "file_extension": ".py",
   "mimetype": "text/x-python",
   "name": "python",
   "nbconvert_exporter": "python",
   "pygments_lexer": "ipython3",
   "version": "3.13.2"
  }
 },
 "nbformat": 4,
 "nbformat_minor": 5
}
